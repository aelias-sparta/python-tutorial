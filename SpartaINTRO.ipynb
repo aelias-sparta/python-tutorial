{
 "cells": [
  {
   "cell_type": "markdown",
   "metadata": {},
   "source": [
    "## Global sparta python\n",
    "\n",
    "### python \n",
    "- Variables <font color='red'>$$$</font>\n",
    "- Data Types <font color='red'>$$$</font>\n",
    "- Collections <font color='red'>$$$</font>\n",
    "- Control Flow\n",
    "- OOP  <font color='red'>$$$</font>\n",
    "- Unit Testing <font color='red'>$$$</font>\n",
    "- Files and Errors <font color='red'>$$$</font>\n",
    "- SQL <font color='red'>$$$</font>\n",
    "- JSON <font color='red'>$$$</font>\n",
    "- APIs\n",
    "\n",
    "### Data visualization and manipulation\n",
    "- NumPy <font color='red'>$$$</font>\n",
    "- Pandas <font color='red'>$$$</font>\n",
    "- Matplotlib <font color='red'>$$$</font>\n",
    "- Seaborn\n",
    "\n",
    "### Python and Databases\n",
    "- NoSQL\n",
    "- MongoDB Intro\n",
    "- MongoDB Shell\n",
    "- MongoDB Compass\n",
    "- PyMongo"
   ]
  },
  {
   "cell_type": "markdown",
   "metadata": {},
   "source": [
    "### Variables\n",
    "\n",
    "- Variables are containers for storing data values > variable contains a data type\n",
    "- Python has no command for declaring a variable.\n",
    "- A variable is created the moment you first assign a value to it."
   ]
  },
  {
   "cell_type": "markdown",
   "metadata": {},
   "source": [
    "# Variables and Built-IN Data types\n",
    "- Text Type:\t<font color='red'>str</font>\n",
    "- Numeric Types:\t<font color='red'>int, float, complex</font>\n",
    "- Sequence Types:   <font color='red'>list, tuple, range</font>\n",
    "- Mapping Type:\t <font color='red'>dict</font> | this contains key and values\n",
    "- Set Types:\tset, frozenset <font color='red'>set, frozenset</font>\n",
    "- Boolean Type:\t<font color='red'>bool</font>\n",
    "- Binary Types:\t <font color='red'>bytes, bytearray, memoryview </font>\n"
   ]
  },
  {
   "cell_type": "code",
   "execution_count": 27,
   "metadata": {},
   "outputs": [
    {
     "name": "stdout",
     "output_type": "stream",
     "text": [
      "<class 'int'>\n",
      "<class 'float'>\n",
      "<class 'str'>\n"
     ]
    }
   ],
   "source": [
    "# casting \n",
    "# specifying data types\n",
    "integer = int(4500.00)\n",
    "print(type(integer))\n",
    "floating = float(integer)\n",
    "print(type(floating))\n",
    "string = str(integer)\n",
    "print(type(string))"
   ]
  },
  {
   "cell_type": "markdown",
   "metadata": {},
   "source": [
    "### basic built-in collection data types in Python\n",
    "\n",
    "- List is a collection which is ordered and mutable. Allows duplicate members. can contain different datatypes\n",
    "- Tuple is a collection which is ordered and immutable. Allows duplicate members. can contain different datatypes\n",
    "- Set is a collection which is unordered and unindexed. No duplicate members. \n",
    "- Dictionary is a collection which is unordered, mutable and indexed. No duplicate members (keys).Keys:Values\n",
    "- Strings are immutable sequences of Unicode code points."
   ]
  },
  {
   "cell_type": "markdown",
   "metadata": {},
   "source": [
    "#"
   ]
  },
  {
   "cell_type": "markdown",
   "metadata": {},
   "source": [
    "#### Sets"
   ]
  },
  {
   "cell_type": "code",
   "execution_count": 26,
   "metadata": {},
   "outputs": [
    {
     "name": "stdout",
     "output_type": "stream",
     "text": [
      "\n",
      "\n",
      "creating a set ###########################################################\n",
      "\n",
      "\n",
      "{4, 6.0, 'two', 'one', 'three'}\n",
      "<class 'set'>\n",
      "\n",
      "\n",
      "adding and removing elements########################################\n",
      "\n",
      "\n",
      "{True, 'Hello', 4, 6.0, 'two', 'one', 'three'}\n",
      "{True, 'Hello', 4, 6.0, 'two', 'three'}\n",
      "\n",
      "\n",
      "iterating###########################################################\n",
      "\n",
      "\n",
      "True\n",
      "Hello\n",
      "4\n",
      "6.0\n",
      "two\n",
      "three\n",
      "\n",
      "\n",
      "union and intersection ###########################################################\n",
      "\n",
      "\n",
      "union\n",
      " {0, 1, 2, 3, 4, 5, 6, 7, 8, 9}\n",
      "evens\n",
      " set()\n",
      "odds\n",
      " {3, 5, 7}\n",
      "primes\n",
      " {2}\n",
      "\n",
      "\n",
      "updating sets ###########################################################\n",
      "\n",
      "\n",
      "{1, 2, 3, 4, 5, 6, 7, 8, 9, 10, 11, 12}\n",
      "\n",
      "intersection_update() ###########################\n",
      "\n",
      "{1, 2, 3}\n",
      "\n",
      "difference_update() ###########################\n",
      "\n",
      "{4, 5, 6, 7, 8, 9}\n",
      "\n",
      "symmetric_difference_update() ###########################\n",
      "\n",
      "{4, 5, 6, 7, 8, 9, 10, 11, 12}\n"
     ]
    }
   ],
   "source": [
    "# sets\n",
    "print(\"\\n\\ncreating a set ###########################################################\\n\\n\")\n",
    "my_set = set([\"one\", \"two\", \"three\", 4, 6.0, 6, 4])\n",
    "my_set2 = set([1, 2, 3, \"four\", \"six\"])\n",
    "print(my_set)\n",
    "print(type(my_set))\n",
    "\n",
    "\n",
    "print(\"\\n\\nadding and removing elements########################################\\n\\n\")\n",
    "# adding element into a set\n",
    "my_set.add(4)\n",
    "my_set.add(True)\n",
    "my_set.add(\"Hello\")\n",
    "print(my_set)\n",
    "\n",
    "# sets are unordered and unindexed \n",
    "\n",
    "my_set.remove(\"one\") # raise a keyError if element is not present\n",
    "my_set.discard(\"one\") # only act when there is an element\n",
    "print(my_set)\n",
    "\n",
    "# my_set.clear() # removes all elements \n",
    "# my_set.pop() # removes randon elements\n",
    "\n",
    "print(\"\\n\\niterating###########################################################\\n\\n\")\n",
    "for i in my_set:\n",
    "    print(i)\n",
    "\n",
    "print(\"\\n\\nunion and intersection ###########################################################\\n\\n\")\n",
    "\n",
    "odds = {1, 3, 5, 7, 9}\n",
    "evens = {0, 2, 4, 6, 8}\n",
    "primes = {2, 3, 5, 7}\n",
    "u = odds.union(evens) ## union() : combine elements from both sets, no duplication\n",
    "print(\"union\\n\", u)\n",
    "\n",
    "# intersection(): take elements that are in both sets\n",
    "i = odds.intersection(evens)\n",
    "print(\"evens\\n\",i)\n",
    "\n",
    "i = odds.intersection(primes)\n",
    "print(\"odds\\n\",i)\n",
    "\n",
    "i = evens.intersection(primes)\n",
    "print(\"primes\\n\",i)\n",
    "\n",
    "print(\"\\n\\nupdating sets ###########################################################\\n\\n\")\n",
    "setA = {1, 2, 3, 4, 5, 6, 7, 8, 9}\n",
    "setB = {1, 2, 3, 10, 11, 12}\n",
    "# update() : Update the set by adding elements from another set.\n",
    "setA.update(setB)\n",
    "print(setA)\n",
    "\n",
    "# intersection_update() : Update the set by keeping only the elements found in both\n",
    "print(\"\\nintersection_update() ###########################\\n\")\n",
    "setA = {1, 2, 3, 4, 5, 6, 7, 8, 9}\n",
    "setA.intersection_update(setB)\n",
    "print(setA)\n",
    "\n",
    "# difference_update() : Update the set by removing elements found in another set.\n",
    "print(\"\\ndifference_update() ###########################\\n\")\n",
    "setA = {1, 2, 3, 4, 5, 6, 7, 8, 9}\n",
    "setA.difference_update(setB)\n",
    "print(setA)\n",
    "\n",
    "\n",
    "# symmetric_difference_update() : Update the set by only keeping the elements found in either set, but not in both\n",
    "print(\"\\nsymmetric_difference_update() ###########################\\n\")\n",
    "setA = {1, 2, 3, 4, 5, 6, 7, 8, 9}\n",
    "setA.symmetric_difference_update(setB)\n",
    "print(setA)"
   ]
  },
  {
   "cell_type": "markdown",
   "metadata": {},
   "source": [
    "#### Collections\n",
    "\n",
    "- Counter, namedturple, OrderedDict, Defaultdict, deque\n",
    "- namedtuple : factory function for creating tuple subclasses with named fields\n",
    "- OrderedDict : dict subclass that remembers the order entries were added\n",
    "- Counter : dict subclass for counting hashable objects\n",
    "- defaultdict : dict subclass that calls a factory function to supply missing values\n",
    "- deque : list-like container with fast appends and pops on either end"
   ]
  },
  {
   "cell_type": "code",
   "execution_count": 38,
   "metadata": {},
   "outputs": [
    {
     "name": "stdout",
     "output_type": "stream",
     "text": [
      "Counter({'a': 5, 'b': 4, 'c': 3, 'd': 2, 'e': 1})\n",
      "dict_keys(['a', 'b', 'c', 'd', 'e'])\n",
      "dict_values([5, 4, 3, 2, 1])\n",
      "\n",
      "\n",
      " counting a list with a counter\n",
      "Counter({1: 4, 2: 3, 0: 2, 3: 2, 4: 1})\n",
      "\n",
      "\n",
      " most_common() items in counter\n",
      "\n",
      "[(1, 4)]\n",
      "[0, 0, 1, 1, 1, 1, 2, 2, 2, 3, 3, 4]\n"
     ]
    }
   ],
   "source": [
    "# counter\n",
    "\n",
    "from collections import Counter\n",
    "\n",
    "a = \"aaaaabbbbcccdde\"\n",
    "my_counter = Counter(a)\n",
    "print(my_counter) # this return a dict\n",
    "#print(my_counter.items()) #all items\n",
    "print(my_counter.keys()) # keys\n",
    "print(my_counter.values()) # values\n",
    "\n",
    "print(\"\\n\\n counting a list with a counter\")\n",
    "my_list = [0, 1, 0, 1, 2, 1, 1, 3, 2, 3, 2, 4]\n",
    "my_counter = Counter(my_list)\n",
    "print(my_counter)\n",
    "\n",
    "# most common items\n",
    "print(\"\\n\\n most_common() items in counter\\n\")\n",
    "print(my_counter.most_common(1))\n",
    "\n",
    "# Return an iterator over elements repeating each as many times as its count. \n",
    "# Elements are returned in arbitrary order.\n",
    "print(list(my_counter.elements()))"
   ]
  },
  {
   "cell_type": "code",
   "execution_count": 39,
   "metadata": {},
   "outputs": [
    {
     "name": "stdout",
     "output_type": "stream",
     "text": [
      "Point(x=1, y=-4)\n",
      "('x', 'y')\n",
      "<class '__main__.Point'>\n",
      "1 -4\n",
      "Tom 25\n"
     ]
    }
   ],
   "source": [
    "# namedtuple\n",
    "from collections import namedtuple\n",
    "# create a namedtuple with its class name as string and its fields as string\n",
    "# fields have to be separated by comma or space in the given string\n",
    "Point = namedtuple('Point','x, y') \n",
    "pt = Point(1, -4) # passing values to the fields in the turple named 'Point'\n",
    "print(pt)\n",
    "print(pt._fields)\n",
    "print(type(pt))\n",
    "print(pt.x, pt.y)\n",
    "\n",
    "# person = entity name, and name and age are the entity fields\n",
    "Person = namedtuple('Person','name, age')\n",
    "friend = Person(name='Tom', age=25)\n",
    "print(friend.name, friend.age)"
   ]
  },
  {
   "cell_type": "code",
   "execution_count": null,
   "metadata": {},
   "outputs": [],
   "source": [
    "from collections import OrderedDict\n",
    "\n",
    "# OrderedDict\n",
    "# OrderedDicts are just like regular dictionaries but they remember the order that items were inserted. \n",
    "# When iterating over an ordered dictionary, the items are returned in the order their keys were first added\n",
    "\n",
    "# In python 3.7 upwards the norm dict remembers the order."
   ]
  },
  {
   "cell_type": "code",
   "execution_count": 44,
   "metadata": {},
   "outputs": [
    {
     "name": "stdout",
     "output_type": "stream",
     "text": [
      "dict_items([('yellow', 1), ('blue', 2)])\n",
      "0\n",
      "dict_items([('yellow', [1, 3]), ('blue', [2, 4]), ('red', [5])])\n",
      "[]\n"
     ]
    }
   ],
   "source": [
    "from collections import defaultdict\n",
    "\n",
    "# defaultdict\n",
    "# The defaultdict is a container that's similar to the usual dict container, \n",
    "# but the only difference is that a defaultdict will have a default value if that key has not been set yet. \n",
    "# If you didn't use a defaultdict you'd have to check to see if that key exists, and if it doesn't, set it to what you want.\n",
    "\n",
    "#initialize with a default integer value, i.e 0\n",
    "d = defaultdict(int) # this will return an integer of 0\n",
    "d['yellow'] = 1\n",
    "d['blue'] = 2\n",
    "print(d.items())\n",
    "print(d['green']) ## doesnot exist returns default 0.\n",
    "\n",
    "# initialize with a default list value, i.e an empty list\n",
    "d = defaultdict(list) # assigning a list as default return for the dict\n",
    "s = [('yellow', 1), ('blue', 2), ('yellow', 3), ('blue', 4), ('red', 5)]\n",
    "for k, v in s:\n",
    "    d[k].append(v)\n",
    "\n",
    "print(d.items())\n",
    "print(d['green']) # doesnt exist return the default list"
   ]
  },
  {
   "cell_type": "code",
   "execution_count": 48,
   "metadata": {},
   "outputs": [
    {
     "name": "stdout",
     "output_type": "stream",
     "text": [
      "\n",
      "###### appending the deque\n",
      "\n",
      "<class 'collections.deque'>\n",
      "deque(['c', 'a', 'b'])\n",
      "\n",
      "###### poping the deque\n",
      "\n",
      "b\n",
      "deque(['c', 'a'])\n",
      "c\n",
      "deque(['a'])\n",
      "\n",
      "c##### learing the deque\n",
      "\n",
      "deque([])\n",
      "\n",
      "##### extending the deque\n",
      "\n",
      "deque(['j', 'i', 'h', 'a', 'b', 'c', 'd', 'e', 'f', 'g'])\n",
      "\n",
      "##### counting the deque\n",
      "\n",
      "1\n",
      "\n",
      "##### rotating the deque by 1 position\n",
      "\n",
      "deque(['g', 'j', 'i', 'h', 'a', 'b', 'c', 'd', 'e', 'f'])\n",
      "\n",
      "##### rotating the deque by 2 position\n",
      "\n",
      "deque(['i', 'h', 'a', 'b', 'c', 'd', 'e', 'f', 'g', 'j'])\n"
     ]
    }
   ],
   "source": [
    "from collections import deque\n",
    "\n",
    "# A deque is a double-ended queue. It can be used to add or remove elements from both ends\n",
    "# Deques support thread safe, memory efficient appends and pops from either side of the deque with approximately the same O(1) \n",
    "# performance in either direction\n",
    "# The more commonly used stacks and queues are degenerate forms of deques, where the inputs and outputs are restricted to a single end\n",
    "\n",
    "d = deque()\n",
    "\n",
    "# append() : add elements to the right end \n",
    "print(\"\\n###### appending the deque\\n\")\n",
    "d.append('a')\n",
    "d.append('b')\n",
    "print(type(d))\n",
    "\n",
    "# appendleft() : add elements to the left end \n",
    "d.appendleft('c')\n",
    "print(d)\n",
    "\n",
    "print(\"\\n###### poping the deque\\n\")\n",
    "# # pop() : return and remove elements from the right\n",
    "print(d.pop())\n",
    "print(d)\n",
    "\n",
    "# popleft() : return and remove elements from the left\n",
    "print(d.popleft())\n",
    "print(d)\n",
    "\n",
    "print(\"\\nc##### learing the deque\\n\")\n",
    "# clear() : remove all elements\n",
    "d.clear()\n",
    "print(d)\n",
    "\n",
    "d = deque(['a', 'b', 'c', 'd'])\n",
    "\n",
    "print(\"\\n##### extending the deque\\n\")\n",
    "# extend at right or left side\n",
    "d.extend(['e', 'f', 'g'])\n",
    "d.extendleft(['h', 'i', 'j']) # note that 'j' is now at the left most position\n",
    "print(d)\n",
    "\n",
    "print(\"\\n##### counting the deque\\n\")\n",
    "# count(x) : returns the number of found elements\n",
    "print(d.count('h'))\n",
    "\n",
    "print(\"\\n##### rotating the deque by 1 position\\n\")\n",
    "# rotate 1 positions to the right\n",
    "d.rotate(1)\n",
    "print(d)\n",
    "\n",
    "print(\"\\n##### rotating the deque by 2 position\\n\")\n",
    "# rotate 2 positions to the left\n",
    "d.rotate(-2)\n",
    "print(d)"
   ]
  },
  {
   "cell_type": "markdown",
   "metadata": {},
   "source": [
    "### Itertools\n",
    "\n",
    "- The Python itertools module is a collection of tools for handling iterators. Simply put, iterators are data types that can be used in a for loop. \n",
    "- The most common iterator in Python is the list."
   ]
  },
  {
   "cell_type": "code",
   "execution_count": 77,
   "metadata": {},
   "outputs": [
    {
     "name": "stdout",
     "output_type": "stream",
     "text": [
      "<method-wrapper '__str__' of itertools.product object at 0x7f97d29ade00>\n"
     ]
    }
   ],
   "source": [
    "# product()\n",
    "# This tool computes the cartesian product of input iterables.\n",
    "# It is equivalent to nested for-loops. For example, product(A, B) returns the same as ((x,y) for x in A for y in B).\n",
    "\n",
    "from itertools import product\n",
    "\n",
    "prod = product([1, 2], [3, 4])\n",
    "print(prod)\n",
    "#print(list(prod)) # note that we convert the iterator to a list for printing\n",
    "\n",
    "# to allow the product of an iterable with itself, specify the number of repetitions \n",
    "prod = product([1, 2], [3], repeat=2)\n",
    "#print(list(prod)) # note that we convert the iterator to a list for printing"
   ]
  },
  {
   "cell_type": "code",
   "execution_count": 78,
   "metadata": {},
   "outputs": [
    {
     "ename": "TypeError",
     "evalue": "'list' object is not callable",
     "output_type": "error",
     "traceback": [
      "\u001b[0;31m---------------------------------------------------------------------------\u001b[0m",
      "\u001b[0;31mTypeError\u001b[0m                                 Traceback (most recent call last)",
      "\u001b[0;32m/var/folders/xc/9zp2_byx5rxc6__39h48zxgh0000gn/T/ipykernel_66516/2673188840.py\u001b[0m in \u001b[0;36m<module>\u001b[0;34m\u001b[0m\n\u001b[1;32m      2\u001b[0m \u001b[0;34m\u001b[0m\u001b[0m\n\u001b[1;32m      3\u001b[0m \u001b[0mperm\u001b[0m \u001b[0;34m=\u001b[0m \u001b[0mpermutations\u001b[0m\u001b[0;34m(\u001b[0m\u001b[0;34m[\u001b[0m\u001b[0;36m1\u001b[0m\u001b[0;34m,\u001b[0m \u001b[0;36m2\u001b[0m\u001b[0;34m,\u001b[0m \u001b[0;36m3\u001b[0m\u001b[0;34m]\u001b[0m\u001b[0;34m)\u001b[0m\u001b[0;34m\u001b[0m\u001b[0;34m\u001b[0m\u001b[0m\n\u001b[0;32m----> 4\u001b[0;31m \u001b[0mprint\u001b[0m\u001b[0;34m(\u001b[0m\u001b[0mlist\u001b[0m\u001b[0;34m(\u001b[0m\u001b[0mperm\u001b[0m\u001b[0;34m)\u001b[0m\u001b[0;34m)\u001b[0m\u001b[0;34m\u001b[0m\u001b[0;34m\u001b[0m\u001b[0m\n\u001b[0m\u001b[1;32m      5\u001b[0m \u001b[0;34m\u001b[0m\u001b[0m\n\u001b[1;32m      6\u001b[0m \u001b[0;31m# optional: the length of the permutation tuples\u001b[0m\u001b[0;34m\u001b[0m\u001b[0;34m\u001b[0m\u001b[0;34m\u001b[0m\u001b[0m\n",
      "\u001b[0;31mTypeError\u001b[0m: 'list' object is not callable"
     ]
    }
   ],
   "source": [
    "from itertools import permutations\n",
    "\n",
    "perm = permutations([1, 2, 3])\n",
    "#print(list(perm))\n",
    "\n",
    "# optional: the length of the permutation tuples\n",
    "perm = permutations([1, 2, 3], 2)\n",
    "##print(list(perm))"
   ]
  },
  {
   "cell_type": "code",
   "execution_count": 84,
   "metadata": {},
   "outputs": [],
   "source": [
    "# run on terminal CMD+R\n",
    "# groupby() iterrator returns a key arguement and grouped arguements\n",
    "from itertools import groupby\n",
    "\n",
    "\n",
    "group_obj = groupby([1, 2, 3, 4], key=lambda x : x < 3)\n",
    "# for key, group in group_obj:\n",
    "#     print(key, list(group))\n",
    "    \n",
    "group_obj = groupby([\"hi\", \"nice\", \"hello\", \"cool\"], key=lambda x: \"i\" in x)\n",
    "for key, group in group_obj:\n",
    "    print(key, list(group))\n",
    "    \n",
    "persons = [{'name': 'Tim', 'age': 25}, {'name': 'Dan', 'age': 25}, \n",
    "           {'name': 'Lisa', 'age': 27}, {'name': 'Claire', 'age': 28}]\n",
    "\n",
    "for key, group in groupby(persons, key=lambda x: x['age']):\n",
    "    print(key, list(group))"
   ]
  },
  {
   "cell_type": "code",
   "execution_count": null,
   "metadata": {},
   "outputs": [],
   "source": [
    "# s = '1222311'\n",
    "# print(*[(len(list(group)), int(key)) for key, group in groupby(s)])"
   ]
  },
  {
   "cell_type": "markdown",
   "metadata": {},
   "source": [
    "### File Handling\n"
   ]
  },
  {
   "cell_type": "code",
   "execution_count": 20,
   "metadata": {},
   "outputs": [
    {
     "name": "stdout",
     "output_type": "stream",
     "text": [
      "This is a text document file for testring\n",
      "this file test file handling errors in python\n",
      "ok that is establish, My name is allan elias \n",
      "and currently work for sparta global as an junior data engineer in data stream academny.\n",
      "I live in birmingham currenttly. but I am from north london.\n",
      "thank you.\n",
      "\n",
      "reading a specifi char in fil\n",
      "\n",
      "This is a \n"
     ]
    }
   ],
   "source": [
    "# reading a file with python simple\n",
    "\n",
    "with open('tester.txt', 'r') as f:\n",
    "    f_contents = f.read()\n",
    "    print(f_contents)\n",
    "    \n",
    "    print(\"\\nreading a specifi char in fil\\n\")\n",
    "    # tyring to print specific charor lines\n",
    "    f.seek(0) # return to the position 0\n",
    "    char_to_read = 10\n",
    "    f_contents = f.read(char_to_read)\n",
    "    print(f_contents)\n",
    "    \n",
    "    # while len(f_contents) > 0:\n",
    "    #     print(f_contents, end='')\n",
    "    #     f_contents = f.read(char_to_read)"
   ]
  },
  {
   "cell_type": "code",
   "execution_count": 11,
   "metadata": {},
   "outputs": [],
   "source": [
    "# writing to a file in python.\n",
    "\n",
    "with open('WriteTest_2021.txt', 'w') as f:\n",
    "    counter = 0\n",
    "    while counter < 10:\n",
    "        f.write(f'Test {counter}\\n')\n",
    "        counter += 1\n",
    "  "
   ]
  },
  {
   "cell_type": "code",
   "execution_count": 19,
   "metadata": {},
   "outputs": [
    {
     "name": "stdout",
     "output_type": "stream",
     "text": [
      "Test 0\n",
      "Test 1\n",
      "Test 2\n",
      "Test 3\n",
      "Test 4\n",
      "Test 5\n",
      "Test 6\n",
      "Test 7\n",
      "Test 8\n",
      "Test 9\n",
      "\n",
      "this is an else call exec after try passed \n",
      "\n",
      "This is an finally call exec ALWAYS \n",
      "\n"
     ]
    }
   ],
   "source": [
    "# Handling errors and exceptions \n",
    "\n",
    "try:\n",
    "    with open('WriteTest_2021.txt', 'r') as f:\n",
    "        f_contents = f.read()\n",
    "        print(f_contents)\n",
    "except FileNotFoundError:\n",
    "    print(\"File is not found\\n\")\n",
    "else:\n",
    "    print(\"this is an else call exec after try passed \\n\")\n",
    "finally:\n",
    "    print(\"This is an finally call exec ALWAYS \\n\")\n",
    "    #pass\n"
   ]
  },
  {
   "cell_type": "markdown",
   "metadata": {},
   "source": [
    "#### Json\n",
    "\n",
    "- JSON (JavaScript Object Notation) is a leightweight data format for data exchange. In Python you have the built-in json module for encoding and decoding JSON data. Simply import it and you are ready to work with JSON data:\n",
    "\n",
    "- import json\n",
    "- Some advantages of JSON:\n",
    "\n",
    "- JSON exists as a \"sequence of bytes\" which is very useful in the case we need to transmit (stream) data over a network.\n",
    "- Compared to XML, JSON is much smaller, translating into faster data transfers, and better experiences.\n",
    "- JSON is extremely human-friendly since it is textual, and simultaneously machine-friendly.\n",
    "\n",
    "| dict | object |\n",
    "| --- | --- |\n",
    "| list,tuple |\tarray|\n",
    "|str\t|string|\n",
    "|int, long, float |number|\n",
    "|True|\ttrue|\n",
    "|False|\tfalse|\n",
    "|None\t|null|"
   ]
  },
  {
   "cell_type": "code",
   "execution_count": 21,
   "metadata": {},
   "outputs": [
    {
     "name": "stdout",
     "output_type": "stream",
     "text": [
      "{\"name\": \"John\", \"age\": 30, \"city\": \"New York\", \"hasChildren\": false, \"titles\": [\"engineer\", \"programmer\"]}\n",
      "{\n",
      "    \"age\"= 30; \n",
      "    \"city\"= \"New York\"; \n",
      "    \"hasChildren\"= false; \n",
      "    \"name\"= \"John\"; \n",
      "    \"titles\"= [\n",
      "        \"engineer\"; \n",
      "        \"programmer\"\n",
      "    ]\n",
      "}\n"
     ]
    }
   ],
   "source": [
    "import json\n",
    "\n",
    "person = {\"name\": \"John\", \"age\": 30, \"city\": \"New York\", \"hasChildren\": False, \"titles\": [\"engineer\", \"programmer\"]}\n",
    "\n",
    "# convert into JSON:\n",
    "person_json = json.dumps(person)\n",
    "# use different formatting style\n",
    "person_json2 = json.dumps(person, indent=4, separators=(\"; \", \"= \"), sort_keys=True)\n",
    "\n",
    "# the result is a JSON string:\n",
    "print(person_json) \n",
    "print(person_json2) "
   ]
  },
  {
   "cell_type": "code",
   "execution_count": 22,
   "metadata": {},
   "outputs": [],
   "source": [
    "# convert Python objects into JSON objects and save them into a file with the json.dump() method\n",
    "import json\n",
    "\n",
    "person = {\"name\": \"John\", \"age\": 30, \"city\": \"New York\", \"hasChildren\": False, \"titles\": [\"engineer\", \"programmer\"]}\n",
    "\n",
    "with open('person.json', 'w') as f:\n",
    "    json.dump(person, f) # you can also specify indent etc..."
   ]
  },
  {
   "cell_type": "code",
   "execution_count": 28,
   "metadata": {},
   "outputs": [
    {
     "name": "stdout",
     "output_type": "stream",
     "text": [
      "{'age': 60, 'city': 'New York', 'hasChildren': True, 'name': 'allan', 'titles': ['engineer', 'programmer', 'Bilionaire']}\n"
     ]
    }
   ],
   "source": [
    "#Convert a JSON string into a Python object with the json.loads() method. The result will be a Python dictionary\n",
    "person_json = \"\"\"\n",
    "{\n",
    "    \"age\": 60, \n",
    "    \"city\": \"New York\",\n",
    "    \"hasChildren\": true, \n",
    "    \"name\": \"allan\",\n",
    "    \"titles\": [\n",
    "        \"engineer\",\n",
    "        \"programmer\",\n",
    "        \"Bilionaire\"\n",
    "    ]\n",
    "}\n",
    "\"\"\"\n",
    "person = json.loads(person_json)\n",
    "print(person)"
   ]
  },
  {
   "cell_type": "code",
   "execution_count": 30,
   "metadata": {},
   "outputs": [
    {
     "name": "stdout",
     "output_type": "stream",
     "text": [
      "{'age': 60, 'city': 'New York', 'hasChildren': True, 'name': 'allan', 'titles': ['engineer', 'programmer', 'Bilionaire']}\n"
     ]
    }
   ],
   "source": [
    "# load data from a file and convert it to a Python object with the json.load() method.\n",
    "import json\n",
    "\n",
    "with open('person.json', 'r') as f:\n",
    "    person = json.load(f)\n",
    "    print(person)\n"
   ]
  },
  {
   "cell_type": "markdown",
   "metadata": {},
   "source": [
    "### Unit testing\n",
    "\n",
    "- documentation for unit testing\n",
    "- https://docs.python.org/3/library/unittest.html#unittest.TestCase.debug"
   ]
  },
  {
   "cell_type": "code",
   "execution_count": 35,
   "metadata": {},
   "outputs": [],
   "source": [
    "import unittest\n",
    "import calc\n",
    "\n",
    "class TestCalc(unittest.TestCase): # inherita\n",
    "\n",
    "    def test_add(self):\n",
    "        self.assertEqual(calc.add(10, 5), 15)\n",
    "        self.assertEqual(calc.add(-1, 1), 0)\n",
    "        self.assertEqual(calc.add(-1, -1), -2)\n",
    "        \n",
    "if __name__ == '__main__':\n",
    "    pass\n",
    "    #unittest.main()"
   ]
  },
  {
   "cell_type": "markdown",
   "metadata": {},
   "source": [
    "### Everyday usage\n",
    "- looping through list dict turple \n",
    "- enumerate\n",
    "- list.index(value) vs for idx, value in enumerate(list):"
   ]
  },
  {
   "cell_type": "code",
   "execution_count": 122,
   "metadata": {},
   "outputs": [
    {
     "name": "stdout",
     "output_type": "stream",
     "text": [
      "first allan\n",
      "last elias\n",
      "age 27\n",
      "titles ['Engineer', 'Prophet', 'Biliobaire', 414]\n",
      "\n",
      " manipulating of values in dict ie adding them\n",
      "\n",
      "14\n",
      "\n",
      "using the old method\n",
      "\n",
      "14\n"
     ]
    }
   ],
   "source": [
    "my_dict = {\"first\": \"allan\", \"last\": \"elias\",  \"age\": 27, \"titles\": [\"Engineer\", \"Prophet\", \"Biliobaire\", 414] }\n",
    "#looping through a dictionarry\n",
    "\n",
    "for key, value in my_dict.items():\n",
    "    print(key, value)\n",
    "    \n",
    "dt = {\"n1\": 2, \"n2\":3, \"n3\": 4, \"n5\": 5}\n",
    "\n",
    "print(\"\\n manipulating of values in dict ie adding them\\n\")\n",
    "sum = 0\n",
    "for key, value in dt.items():\n",
    "    sum += value\n",
    "print(sum)\n",
    "\n",
    "# another method of accessing the values in dict long but assured\n",
    "print(\"\\nusing the old method\\n\")\n",
    "sum1 = 0\n",
    "for i in dt:\n",
    "    sum1 += dt[i]\n",
    "print(sum1)"
   ]
  },
  {
   "cell_type": "code",
   "execution_count": 113,
   "metadata": {},
   "outputs": [
    {
     "name": "stdout",
     "output_type": "stream",
     "text": [
      "Even idx 0 a\n",
      "Even idx 2 l\n",
      "Even idx 4 n\n",
      "Even idx 6 e\n",
      "Even idx 8 i\n",
      "Even idx 10 s\n"
     ]
    }
   ],
   "source": [
    "# index manipulations \n",
    "\n",
    "# strings \n",
    "\n",
    "word = \"allan elias\"\n",
    "#print(word.index(\"l\")) # this prints the index of the first letter found.\n",
    "# list.index(value) this is useful when you to check only once, not interested with all the index\n",
    "\n",
    "# getting the idx for all values with a counter\n",
    "# counter = 0\n",
    "# for i in word:\n",
    "#     print(i, counter)\n",
    "#     counter += 1\n",
    "    \n",
    "# getting the idx and for all values with an enumerate  \n",
    "# for idx, value in enumerate(word):\n",
    "#     print(idx, value)\n",
    "\n",
    "for idx, value in enumerate(word):\n",
    "    if idx % 2 == 0:\n",
    "        print(\"Even idx\", idx, value)\n",
    "        "
   ]
  },
  {
   "cell_type": "code",
   "execution_count": 188,
   "metadata": {},
   "outputs": [
    {
     "ename": "TypeError",
     "evalue": "'list' object is not callable",
     "output_type": "error",
     "traceback": [
      "\u001b[0;31m---------------------------------------------------------------------------\u001b[0m",
      "\u001b[0;31mTypeError\u001b[0m                                 Traceback (most recent call last)",
      "\u001b[0;32m/var/folders/xc/9zp2_byx5rxc6__39h48zxgh0000gn/T/ipykernel_66516/4150012814.py\u001b[0m in \u001b[0;36m<module>\u001b[0;34m\u001b[0m\n\u001b[1;32m      3\u001b[0m \u001b[0;32mfor\u001b[0m \u001b[0mi\u001b[0m \u001b[0;32min\u001b[0m \u001b[0mls\u001b[0m\u001b[0;34m:\u001b[0m\u001b[0;34m\u001b[0m\u001b[0;34m\u001b[0m\u001b[0m\n\u001b[1;32m      4\u001b[0m     \u001b[0;32mif\u001b[0m \u001b[0mi\u001b[0m \u001b[0;34m%\u001b[0m \u001b[0;36m2\u001b[0m\u001b[0;34m==\u001b[0m \u001b[0;36m0\u001b[0m\u001b[0;34m:\u001b[0m\u001b[0;34m\u001b[0m\u001b[0;34m\u001b[0m\u001b[0m\n\u001b[0;32m----> 5\u001b[0;31m         \u001b[0mmy\u001b[0m \u001b[0;34m+=\u001b[0m \u001b[0mlist\u001b[0m\u001b[0;34m(\u001b[0m\u001b[0mi\u001b[0m\u001b[0;34m)\u001b[0m\u001b[0;34m\u001b[0m\u001b[0;34m\u001b[0m\u001b[0m\n\u001b[0m\u001b[1;32m      6\u001b[0m \u001b[0;34m\u001b[0m\u001b[0m\n\u001b[1;32m      7\u001b[0m \u001b[0mprint\u001b[0m\u001b[0;34m(\u001b[0m\u001b[0mmy\u001b[0m\u001b[0;34m)\u001b[0m\u001b[0;34m\u001b[0m\u001b[0;34m\u001b[0m\u001b[0m\n",
      "\u001b[0;31mTypeError\u001b[0m: 'list' object is not callable"
     ]
    }
   ],
   "source": [
    "ls = [1,2,3,4,5,6,7,8,9]\n",
    "my = []\n",
    "for i in ls:\n",
    "    if i % 2== 0:\n",
    "        my += list(i)\n",
    "    \n",
    "print(my)\n",
    "        "
   ]
  },
  {
   "cell_type": "code",
   "execution_count": null,
   "metadata": {},
   "outputs": [],
   "source": []
  }
 ],
 "metadata": {
  "kernelspec": {
   "display_name": "Python 3",
   "language": "python",
   "name": "python3"
  },
  "language_info": {
   "codemirror_mode": {
    "name": "ipython",
    "version": 3
   },
   "file_extension": ".py",
   "mimetype": "text/x-python",
   "name": "python",
   "nbconvert_exporter": "python",
   "pygments_lexer": "ipython3",
   "version": "3.8.3"
  }
 },
 "nbformat": 4,
 "nbformat_minor": 4
}
